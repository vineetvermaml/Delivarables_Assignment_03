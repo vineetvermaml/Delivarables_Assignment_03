{
  "cells": [
    {
      "cell_type": "markdown",
      "metadata": {
        "id": "b-R7FWi12S-h"
      },
      "source": [
        "# Problem 2: Learning to implement Neural Network"
      ]
    },
    {
      "cell_type": "markdown",
      "metadata": {
        "id": "9NqC52R4J9uG"
      },
      "source": [
        "## Gurmukhi Handwritten Digit Classification:\n",
        "Gurmukhi is one of the popular\n",
        "Indian scripts widely used in Indian state of Punjab. In this part of the assignment,\n",
        "our goal is to develop a neural network solution (a simple NN, not a CNN) for classifying\n",
        "Gurmukhi digits. We provide you Handwritten Gurmukhi digit dataset here:\n",
        "\n",
        "Dataset link\n",
        "Modify the code provided in here and a video tutorial here, and develop a robust\n",
        "neural network to classify the Gurmukhi digits. Higher performance on test set will have bonus point. Briefly write your observation and submit your code so that we can evaluate your implementation at our end. (10 points)"
      ]
    },
    {
      "cell_type": "code",
      "execution_count": 36,
      "metadata": {
        "colab": {
          "base_uri": "https://localhost:8080/"
        },
        "id": "YuZyGoLR-sJw",
        "outputId": "2b75d477-5e58-420d-8a7d-b65a6dd52c3e"
      },
      "outputs": [
        {
          "output_type": "stream",
          "name": "stdout",
          "text": [
            "Drive already mounted at /content/drive; to attempt to forcibly remount, call drive.mount(\"/content/drive\", force_remount=True).\n"
          ]
        }
      ],
      "source": [
        "from google.colab import drive\n",
        "drive.mount('/content/drive')"
      ]
    },
    {
      "cell_type": "code",
      "execution_count": 37,
      "metadata": {
        "id": "_-Y7a2zK3V5H"
      },
      "outputs": [],
      "source": [
        "# Importing all necessary Libraries\n",
        "import os\n",
        "from os.path  import join\n",
        "\n",
        "import numpy as np\n",
        "from array import array\n",
        "\n",
        "import random\n",
        "from shutil import copyfile\n",
        "import struct\n",
        "\n"
      ]
    },
    {
      "cell_type": "code",
      "execution_count": 77,
      "metadata": {
        "colab": {
          "base_uri": "https://localhost:8080/"
        },
        "id": "9eCQNuAxK3aA",
        "outputId": "29f323d1-7f25-4a48-fe78-7443225688eb"
      },
      "outputs": [
        {
          "output_type": "stream",
          "name": "stdout",
          "text": [
            "Total number of images: 1000\n",
            "Number of train images: 800\n",
            "Number of val images: 200\n"
          ]
        }
      ],
      "source": [
        "# Set the source directory of the dataset\n",
        "src_dir = '/content/drive/MyDrive/Machine Learning Assignment03/Problem 02/train'\n",
        "\n",
        "# Set the train-test split ratio\n",
        "split_ratio = 0.8\n",
        "\n",
        "# Create a list of all the image file paths and their corresponding labels\n",
        "data = []\n",
        "for label in os.listdir(src_dir):\n",
        "    label_dir = os.path.join(src_dir, label)\n",
        "    for img_file in os.listdir(label_dir):\n",
        "        img_path = os.path.join(label_dir, img_file)\n",
        "        data.append((img_path, label))\n",
        "\n",
        "# Shuffle the data\n",
        "random.shuffle(data)\n",
        "\n",
        "# Split the data into train and test sets\n",
        "split_index = int(len(data) * split_ratio)\n",
        "train_data = data[:split_index]\n",
        "Val_data = data[split_index:]\n",
        "\n",
        "random.shuffle(train_data)\n",
        "random.shuffle(Val_data)\n",
        "\n",
        "\n",
        "print(f'Total number of images: {len(data)}')\n",
        "print(f'Number of train images: {len(train_data)}')\n",
        "print(f'Number of val images: {len(Val_data)}')"
      ]
    },
    {
      "cell_type": "code",
      "execution_count": 78,
      "metadata": {
        "id": "N2D3EuO2Kvhf"
      },
      "outputs": [],
      "source": [
        "#Preprocess the images and labels\n",
        "import random\n",
        "import cv2\n",
        "\n",
        "# Set the image size\n",
        "img_height = 32\n",
        "img_width = 32\n",
        "\n",
        "X_train = []\n",
        "Y_train = []\n",
        "# Read all images and label in train folder\n",
        "for img_path, label in train_data:\n",
        "  img = cv2.imread(img_path)\n",
        "  img = cv2.resize(img, (img_height, img_width))\n",
        "  img = img / 255.0\n",
        "  X_train.append(img)\n",
        "  Y_train.append(label)\n",
        "\n",
        "X_val = []\n",
        "Y_val = []\n",
        "# Read all images and label in test folder\n",
        "for img_path, label in Val_data:\n",
        "  img = cv2.imread(img_path)\n",
        "  img = cv2.resize(img, (img_height, img_width))\n",
        "  img = img / 255.0\n",
        "  X_val.append(img)\n",
        "  Y_val.append(label)\n"
      ]
    },
    {
      "cell_type": "code",
      "execution_count": 79,
      "metadata": {
        "colab": {
          "base_uri": "https://localhost:8080/"
        },
        "id": "oQQayCUXKvqm",
        "outputId": "62de3e6b-fefd-4509-b1d9-9d3b5bb7eff2"
      },
      "outputs": [
        {
          "output_type": "stream",
          "name": "stdout",
          "text": [
            " size of training label  800\n",
            " size of training data 800\n"
          ]
        }
      ],
      "source": [
        "print(\" size of training label \", len(Y_train))\n",
        "print(\" size of training data\",len(X_train))\n"
      ]
    },
    {
      "cell_type": "code",
      "execution_count": 80,
      "metadata": {
        "id": "DzOJb3lUZp6u"
      },
      "outputs": [],
      "source": [
        "# Convert the data from list to numpy arrays\n",
        "\n",
        "X_train = np.array(X_train)\n",
        "Y_train = np.array(Y_train)\n",
        "\n",
        "X_val = np.array(X_val)\n",
        "Y_val = np.array(Y_val)"
      ]
    },
    {
      "cell_type": "code",
      "execution_count": 81,
      "metadata": {
        "colab": {
          "base_uri": "https://localhost:8080/"
        },
        "id": "PImNuulYZ5tX",
        "outputId": "4cbf5d42-5ff8-4a7f-eb9a-31d095bc063a"
      },
      "outputs": [
        {
          "output_type": "execute_result",
          "data": {
            "text/plain": [
              "(800, 32, 32, 3)"
            ]
          },
          "metadata": {},
          "execution_count": 81
        }
      ],
      "source": [
        "X_train.shape"
      ]
    },
    {
      "cell_type": "code",
      "execution_count": 82,
      "metadata": {
        "id": "8dwBga96HWC9"
      },
      "outputs": [],
      "source": [
        "#Convert the labels to one-hot vectors\n",
        "\n",
        "num_classes = len(np.unique(Y_train))\n",
        "Y_train = np.eye(num_classes)[Y_train.astype('int32').flatten()]\n",
        "Y_val = np.eye(num_classes)[Y_val.astype('int32').flatten()]"
      ]
    },
    {
      "cell_type": "markdown",
      "metadata": {
        "id": "rqdppT7fG5C0"
      },
      "source": [
        "# Model Creation and Training using Keras Library"
      ]
    },
    {
      "cell_type": "code",
      "execution_count": 83,
      "metadata": {
        "colab": {
          "base_uri": "https://localhost:8080/"
        },
        "id": "_ksAuQMjG38_",
        "outputId": "9bd0a4d8-a274-426f-cb96-cd70f607b30b"
      },
      "outputs": [
        {
          "output_type": "stream",
          "name": "stdout",
          "text": [
            "Model: \"sequential_7\"\n",
            "_________________________________________________________________\n",
            " Layer (type)                Output Shape              Param #   \n",
            "=================================================================\n",
            " flatten_7 (Flatten)         (None, 3072)              0         \n",
            "                                                                 \n",
            " dense_14 (Dense)            (None, 128)               393344    \n",
            "                                                                 \n",
            " dropout_7 (Dropout)         (None, 128)               0         \n",
            "                                                                 \n",
            " dense_15 (Dense)            (None, 10)                1290      \n",
            "                                                                 \n",
            "=================================================================\n",
            "Total params: 394,634\n",
            "Trainable params: 394,634\n",
            "Non-trainable params: 0\n",
            "_________________________________________________________________\n",
            "None\n",
            "Epoch 1/100\n",
            "25/25 [==============================] - 1s 5ms/step - loss: 1.9860 - accuracy: 0.3625\n",
            "Epoch 2/100\n",
            "25/25 [==============================] - 0s 5ms/step - loss: 0.9904 - accuracy: 0.6538\n",
            "Epoch 3/100\n",
            "25/25 [==============================] - 0s 6ms/step - loss: 0.7216 - accuracy: 0.7513\n",
            "Epoch 4/100\n",
            "25/25 [==============================] - 0s 5ms/step - loss: 0.5672 - accuracy: 0.8050\n",
            "Epoch 5/100\n",
            "25/25 [==============================] - 0s 6ms/step - loss: 0.4618 - accuracy: 0.8325\n",
            "Epoch 6/100\n",
            "25/25 [==============================] - 0s 6ms/step - loss: 0.4275 - accuracy: 0.8562\n",
            "Epoch 7/100\n",
            "25/25 [==============================] - 0s 6ms/step - loss: 0.4575 - accuracy: 0.8450\n",
            "Epoch 8/100\n",
            "25/25 [==============================] - 0s 5ms/step - loss: 0.3858 - accuracy: 0.8662\n",
            "Epoch 9/100\n",
            "25/25 [==============================] - 0s 6ms/step - loss: 0.4083 - accuracy: 0.8587\n",
            "Epoch 10/100\n",
            "25/25 [==============================] - 0s 6ms/step - loss: 0.3540 - accuracy: 0.8750\n",
            "Epoch 11/100\n",
            "25/25 [==============================] - 0s 6ms/step - loss: 0.3238 - accuracy: 0.8737\n",
            "Epoch 12/100\n",
            "25/25 [==============================] - 0s 6ms/step - loss: 0.3430 - accuracy: 0.8750\n",
            "Epoch 13/100\n",
            "25/25 [==============================] - 0s 6ms/step - loss: 0.2802 - accuracy: 0.9100\n",
            "Epoch 14/100\n",
            "25/25 [==============================] - 0s 6ms/step - loss: 0.2594 - accuracy: 0.9038\n",
            "Epoch 15/100\n",
            "25/25 [==============================] - 0s 5ms/step - loss: 0.2331 - accuracy: 0.9200\n",
            "Epoch 16/100\n",
            "25/25 [==============================] - 0s 6ms/step - loss: 0.2130 - accuracy: 0.9212\n",
            "Epoch 17/100\n",
            "25/25 [==============================] - 0s 6ms/step - loss: 0.2497 - accuracy: 0.9087\n",
            "Epoch 18/100\n",
            "25/25 [==============================] - 0s 5ms/step - loss: 0.2219 - accuracy: 0.9287\n",
            "Epoch 19/100\n",
            "25/25 [==============================] - 0s 5ms/step - loss: 0.2332 - accuracy: 0.9187\n",
            "Epoch 20/100\n",
            "25/25 [==============================] - 0s 5ms/step - loss: 0.1874 - accuracy: 0.9362\n",
            "Epoch 21/100\n",
            "25/25 [==============================] - 0s 5ms/step - loss: 0.1993 - accuracy: 0.9337\n",
            "Epoch 22/100\n",
            "25/25 [==============================] - 0s 5ms/step - loss: 0.1836 - accuracy: 0.9312\n",
            "Epoch 23/100\n",
            "25/25 [==============================] - 0s 5ms/step - loss: 0.1926 - accuracy: 0.9262\n",
            "Epoch 24/100\n",
            "25/25 [==============================] - 0s 5ms/step - loss: 0.2153 - accuracy: 0.9225\n",
            "Epoch 25/100\n",
            "25/25 [==============================] - 0s 6ms/step - loss: 0.1697 - accuracy: 0.9400\n",
            "Epoch 26/100\n",
            "25/25 [==============================] - 0s 5ms/step - loss: 0.1844 - accuracy: 0.9287\n",
            "Epoch 27/100\n",
            "25/25 [==============================] - 0s 6ms/step - loss: 0.1526 - accuracy: 0.9463\n",
            "Epoch 28/100\n",
            "25/25 [==============================] - 0s 6ms/step - loss: 0.1818 - accuracy: 0.9262\n",
            "Epoch 29/100\n",
            "25/25 [==============================] - 0s 5ms/step - loss: 0.1773 - accuracy: 0.9388\n",
            "Epoch 30/100\n",
            "25/25 [==============================] - 0s 6ms/step - loss: 0.1734 - accuracy: 0.9325\n",
            "Epoch 31/100\n",
            "25/25 [==============================] - 0s 5ms/step - loss: 0.1944 - accuracy: 0.9362\n",
            "Epoch 32/100\n",
            "25/25 [==============================] - 0s 5ms/step - loss: 0.1433 - accuracy: 0.9475\n",
            "Epoch 33/100\n",
            "25/25 [==============================] - 0s 5ms/step - loss: 0.1710 - accuracy: 0.9388\n",
            "Epoch 34/100\n",
            "25/25 [==============================] - 0s 5ms/step - loss: 0.1683 - accuracy: 0.9312\n",
            "Epoch 35/100\n",
            "25/25 [==============================] - 0s 6ms/step - loss: 0.1480 - accuracy: 0.9375\n",
            "Epoch 36/100\n",
            "25/25 [==============================] - 0s 6ms/step - loss: 0.1382 - accuracy: 0.9488\n",
            "Epoch 37/100\n",
            "25/25 [==============================] - 0s 6ms/step - loss: 0.1250 - accuracy: 0.9563\n",
            "Epoch 38/100\n",
            "25/25 [==============================] - 0s 6ms/step - loss: 0.1398 - accuracy: 0.9525\n",
            "Epoch 39/100\n",
            "25/25 [==============================] - 0s 5ms/step - loss: 0.1495 - accuracy: 0.9488\n",
            "Epoch 40/100\n",
            "25/25 [==============================] - 0s 6ms/step - loss: 0.1365 - accuracy: 0.9538\n",
            "Epoch 41/100\n",
            "25/25 [==============================] - 0s 6ms/step - loss: 0.1904 - accuracy: 0.9250\n",
            "Epoch 42/100\n",
            "25/25 [==============================] - 0s 6ms/step - loss: 0.1637 - accuracy: 0.9400\n",
            "Epoch 43/100\n",
            "25/25 [==============================] - 0s 6ms/step - loss: 0.1440 - accuracy: 0.9400\n",
            "Epoch 44/100\n",
            "25/25 [==============================] - 0s 6ms/step - loss: 0.1451 - accuracy: 0.9450\n",
            "Epoch 45/100\n",
            "25/25 [==============================] - 0s 6ms/step - loss: 0.1596 - accuracy: 0.9413\n",
            "Epoch 46/100\n",
            "25/25 [==============================] - 0s 6ms/step - loss: 0.1497 - accuracy: 0.9400\n",
            "Epoch 47/100\n",
            "25/25 [==============================] - 0s 5ms/step - loss: 0.1318 - accuracy: 0.9500\n",
            "Epoch 48/100\n",
            "25/25 [==============================] - 0s 6ms/step - loss: 0.1443 - accuracy: 0.9413\n",
            "Epoch 49/100\n",
            "25/25 [==============================] - 0s 6ms/step - loss: 0.1642 - accuracy: 0.9250\n",
            "Epoch 50/100\n",
            "25/25 [==============================] - 0s 5ms/step - loss: 0.1535 - accuracy: 0.9350\n",
            "Epoch 51/100\n",
            "25/25 [==============================] - 0s 5ms/step - loss: 0.1661 - accuracy: 0.9325\n",
            "Epoch 52/100\n",
            "25/25 [==============================] - 0s 5ms/step - loss: 0.1187 - accuracy: 0.9538\n",
            "Epoch 53/100\n",
            "25/25 [==============================] - 0s 5ms/step - loss: 0.1574 - accuracy: 0.9350\n",
            "Epoch 54/100\n",
            "25/25 [==============================] - 0s 5ms/step - loss: 0.1169 - accuracy: 0.9563\n",
            "Epoch 55/100\n",
            "25/25 [==============================] - 0s 5ms/step - loss: 0.1222 - accuracy: 0.9500\n",
            "Epoch 56/100\n",
            "25/25 [==============================] - 0s 6ms/step - loss: 0.1218 - accuracy: 0.9563\n",
            "Epoch 57/100\n",
            "25/25 [==============================] - 0s 5ms/step - loss: 0.1231 - accuracy: 0.9513\n",
            "Epoch 58/100\n",
            "25/25 [==============================] - 0s 6ms/step - loss: 0.1578 - accuracy: 0.9312\n",
            "Epoch 59/100\n",
            "25/25 [==============================] - 0s 5ms/step - loss: 0.1491 - accuracy: 0.9438\n",
            "Epoch 60/100\n",
            "25/25 [==============================] - 0s 6ms/step - loss: 0.1494 - accuracy: 0.9388\n",
            "Epoch 61/100\n",
            "25/25 [==============================] - 0s 6ms/step - loss: 0.1424 - accuracy: 0.9438\n",
            "Epoch 62/100\n",
            "25/25 [==============================] - 0s 8ms/step - loss: 0.1341 - accuracy: 0.9438\n",
            "Epoch 63/100\n",
            "25/25 [==============================] - 0s 9ms/step - loss: 0.0994 - accuracy: 0.9650\n",
            "Epoch 64/100\n",
            "25/25 [==============================] - 0s 9ms/step - loss: 0.0978 - accuracy: 0.9613\n",
            "Epoch 65/100\n",
            "25/25 [==============================] - 0s 9ms/step - loss: 0.1314 - accuracy: 0.9475\n",
            "Epoch 66/100\n",
            "25/25 [==============================] - 0s 9ms/step - loss: 0.1316 - accuracy: 0.9388\n",
            "Epoch 67/100\n",
            "25/25 [==============================] - 0s 9ms/step - loss: 0.1093 - accuracy: 0.9563\n",
            "Epoch 68/100\n",
            "25/25 [==============================] - 0s 9ms/step - loss: 0.1177 - accuracy: 0.9513\n",
            "Epoch 69/100\n",
            "25/25 [==============================] - 0s 9ms/step - loss: 0.1246 - accuracy: 0.9488\n",
            "Epoch 70/100\n",
            "25/25 [==============================] - 0s 8ms/step - loss: 0.1157 - accuracy: 0.9538\n",
            "Epoch 71/100\n",
            "25/25 [==============================] - 0s 8ms/step - loss: 0.1172 - accuracy: 0.9588\n",
            "Epoch 72/100\n",
            "25/25 [==============================] - 0s 9ms/step - loss: 0.1086 - accuracy: 0.9538\n",
            "Epoch 73/100\n",
            "25/25 [==============================] - 0s 8ms/step - loss: 0.1178 - accuracy: 0.9538\n",
            "Epoch 74/100\n",
            "25/25 [==============================] - 0s 8ms/step - loss: 0.1385 - accuracy: 0.9438\n",
            "Epoch 75/100\n",
            "25/25 [==============================] - 0s 8ms/step - loss: 0.1043 - accuracy: 0.9575\n",
            "Epoch 76/100\n",
            "25/25 [==============================] - 0s 8ms/step - loss: 0.1508 - accuracy: 0.9275\n",
            "Epoch 77/100\n",
            "25/25 [==============================] - 0s 8ms/step - loss: 0.1610 - accuracy: 0.9287\n",
            "Epoch 78/100\n",
            "25/25 [==============================] - 0s 8ms/step - loss: 0.1570 - accuracy: 0.9362\n",
            "Epoch 79/100\n",
            "25/25 [==============================] - 0s 8ms/step - loss: 0.1480 - accuracy: 0.9337\n",
            "Epoch 80/100\n",
            "25/25 [==============================] - 0s 8ms/step - loss: 0.1195 - accuracy: 0.9538\n",
            "Epoch 81/100\n",
            "25/25 [==============================] - 0s 9ms/step - loss: 0.1309 - accuracy: 0.9450\n",
            "Epoch 82/100\n",
            "25/25 [==============================] - 0s 9ms/step - loss: 0.1367 - accuracy: 0.9475\n",
            "Epoch 83/100\n",
            "25/25 [==============================] - 0s 9ms/step - loss: 0.1227 - accuracy: 0.9400\n",
            "Epoch 84/100\n",
            "25/25 [==============================] - 0s 9ms/step - loss: 0.1142 - accuracy: 0.9613\n",
            "Epoch 85/100\n",
            "25/25 [==============================] - 0s 9ms/step - loss: 0.1540 - accuracy: 0.9325\n",
            "Epoch 86/100\n",
            "25/25 [==============================] - 0s 7ms/step - loss: 0.1613 - accuracy: 0.9337\n",
            "Epoch 87/100\n",
            "25/25 [==============================] - 0s 6ms/step - loss: 0.1425 - accuracy: 0.9300\n",
            "Epoch 88/100\n",
            "25/25 [==============================] - 0s 5ms/step - loss: 0.1367 - accuracy: 0.9425\n",
            "Epoch 89/100\n",
            "25/25 [==============================] - 0s 5ms/step - loss: 0.1107 - accuracy: 0.9538\n",
            "Epoch 90/100\n",
            "25/25 [==============================] - 0s 5ms/step - loss: 0.1538 - accuracy: 0.9350\n",
            "Epoch 91/100\n",
            "25/25 [==============================] - 0s 5ms/step - loss: 0.1800 - accuracy: 0.9175\n",
            "Epoch 92/100\n",
            "25/25 [==============================] - 0s 5ms/step - loss: 0.1279 - accuracy: 0.9488\n",
            "Epoch 93/100\n",
            "25/25 [==============================] - 0s 6ms/step - loss: 0.1335 - accuracy: 0.9475\n",
            "Epoch 94/100\n",
            "25/25 [==============================] - 0s 6ms/step - loss: 0.1419 - accuracy: 0.9388\n",
            "Epoch 95/100\n",
            "25/25 [==============================] - 0s 5ms/step - loss: 0.1571 - accuracy: 0.9275\n",
            "Epoch 96/100\n",
            "25/25 [==============================] - 0s 5ms/step - loss: 0.1456 - accuracy: 0.9388\n",
            "Epoch 97/100\n",
            "25/25 [==============================] - 0s 5ms/step - loss: 0.1260 - accuracy: 0.9400\n",
            "Epoch 98/100\n",
            "25/25 [==============================] - 0s 6ms/step - loss: 0.1223 - accuracy: 0.9488\n",
            "Epoch 99/100\n",
            "25/25 [==============================] - 0s 5ms/step - loss: 0.1258 - accuracy: 0.9400\n",
            "Epoch 100/100\n",
            "25/25 [==============================] - 0s 5ms/step - loss: 0.1269 - accuracy: 0.9450\n",
            "7/7 [==============================] - 0s 3ms/step - loss: 0.1386 - accuracy: 0.9700\n",
            "Validation accuracy: 0.9700000286102295\n"
          ]
        }
      ],
      "source": [
        "img_height, img_width = 32, 32\n",
        "batch_size = 32\n",
        "# import library\n",
        "import os\n",
        "import numpy as np\n",
        "from keras.models import Sequential\n",
        "from keras.layers import Dense, Flatten, Dropout\n",
        "from keras.optimizers import Adam\n",
        "\n",
        "# Define the model Neural Network\n",
        "model = Sequential()\n",
        "model.add(Flatten(input_shape=(img_height, img_width, 3)))\n",
        "model.add(Dense(128, activation='relu'))\n",
        "model.add(Dropout(0.5))\n",
        "model.add(Dense(10, activation='softmax'))\n",
        "\n",
        "# Compile the model\n",
        "optimizer = Adam(learning_rate=0.001)\n",
        "model.compile(optimizer=optimizer, loss='categorical_crossentropy', metrics=['accuracy'])\n",
        "\n",
        "# Model Summary\n",
        "print(model.summary())\n",
        "\n",
        "# Train the model\n",
        "epochs = 100\n",
        "model.fit(X_train, Y_train,  epochs=epochs)\n",
        "\n",
        "# Evaluate the model on the test data\n",
        "loss, accuracy = model.evaluate(X_val, Y_val)\n",
        "\n",
        "# Print the test accuracy\n",
        "print('Validation accuracy:', accuracy)"
      ]
    },
    {
      "cell_type": "code",
      "execution_count": 45,
      "metadata": {
        "id": "Ne8BU-uqHNPD",
        "colab": {
          "base_uri": "https://localhost:8080/"
        },
        "outputId": "f6952b27-2052-4dd3-95f6-da7eb8f1f9e4"
      },
      "outputs": [
        {
          "output_type": "stream",
          "name": "stdout",
          "text": [
            "7/7 [==============================] - 0s 3ms/step\n"
          ]
        }
      ],
      "source": [
        "# do prediction on the val dataset\n",
        "prediction = model.predict(X_val)"
      ]
    },
    {
      "cell_type": "code",
      "execution_count": 46,
      "metadata": {
        "id": "FlBGOlHsHNaE",
        "colab": {
          "base_uri": "https://localhost:8080/"
        },
        "outputId": "be817bd0-beb9-4960-d0b3-5a775669b5a9"
      },
      "outputs": [
        {
          "output_type": "execute_result",
          "data": {
            "text/plain": [
              "array([3.9626280e-09, 1.0273003e-06, 7.1448340e-11, 1.8592498e-08,\n",
              "       1.5919090e-08, 6.0654576e-10, 5.1645771e-12, 9.9999887e-01,\n",
              "       3.4178381e-08, 3.2267038e-09], dtype=float32)"
            ]
          },
          "metadata": {},
          "execution_count": 46
        }
      ],
      "source": [
        "# Predicted class value probability for one image \n",
        "prediction[10]"
      ]
    },
    {
      "cell_type": "code",
      "execution_count": 47,
      "metadata": {
        "id": "GbNWBW9BHN28",
        "colab": {
          "base_uri": "https://localhost:8080/"
        },
        "outputId": "d25ccfe3-80e2-4d96-b665-99cc0fa0e8cd"
      },
      "outputs": [
        {
          "output_type": "execute_result",
          "data": {
            "text/plain": [
              "array([0., 0., 0., 0., 0., 0., 0., 1., 0., 0.])"
            ]
          },
          "metadata": {},
          "execution_count": 47
        }
      ],
      "source": [
        "# truth value for one image\n",
        "Y_val[10]"
      ]
    },
    {
      "cell_type": "code",
      "source": [
        "test_dir = '/content/drive/MyDrive/Machine Learning Assignment03/Problem 02/val'"
      ],
      "metadata": {
        "id": "byt6TIKKYm6k"
      },
      "execution_count": 86,
      "outputs": []
    },
    {
      "cell_type": "code",
      "source": [
        "test_data = []\n",
        "for label in os.listdir(test_dir):\n",
        "    label_dir = os.path.join(test_dir, label)\n",
        "    for img_file in os.listdir(label_dir):\n",
        "        img_path = os.path.join(label_dir, img_file)\n",
        "        test_data.append((img_path, label))\n",
        "\n",
        "# Shuffle the data\n",
        "random.shuffle(test_data)"
      ],
      "metadata": {
        "id": "OpXe69NaalV2"
      },
      "execution_count": 87,
      "outputs": []
    },
    {
      "cell_type": "code",
      "source": [
        "test_data[0]"
      ],
      "metadata": {
        "colab": {
          "base_uri": "https://localhost:8080/"
        },
        "id": "rE1UPq6Pb0QQ",
        "outputId": "b3012e60-730c-43f2-c8cc-2c3d730fd48b"
      },
      "execution_count": 88,
      "outputs": [
        {
          "output_type": "execute_result",
          "data": {
            "text/plain": [
              "('/content/drive/MyDrive/Machine Learning Assignment03/Problem 02/val/1/11.tiff',\n",
              " '1')"
            ]
          },
          "metadata": {},
          "execution_count": 88
        }
      ]
    },
    {
      "cell_type": "code",
      "source": [
        "# Set the image size\n",
        "img_height = 32\n",
        "img_width = 32\n",
        "\n",
        "X_test = []\n",
        "Y_test = []\n",
        "# Read all images and label in train folder\n",
        "for img_path, label in test_data:\n",
        "  img = cv2.imread(img_path)\n",
        "  img = cv2.resize(img, (img_height, img_width))\n",
        "  img = img / 255.0\n",
        "  X_test.append(img)\n",
        "  Y_test.append(label)"
      ],
      "metadata": {
        "id": "acwtwKMsa1Uh"
      },
      "execution_count": 89,
      "outputs": []
    },
    {
      "cell_type": "code",
      "source": [
        "# Convert the data from list to numpy arrays\n",
        "\n",
        "X_test = np.array(X_test)\n",
        "Y_test = np.array(Y_test)\n"
      ],
      "metadata": {
        "id": "RzlQFXMDbkz7"
      },
      "execution_count": 90,
      "outputs": []
    },
    {
      "cell_type": "code",
      "source": [
        "#Convert the labels to one-hot vectors\n",
        "\n",
        "num_classes = len(np.unique(Y_test))\n",
        "Y_test = np.eye(num_classes)[Y_test.astype('int32').flatten()]"
      ],
      "metadata": {
        "id": "_LYF5YxobocI"
      },
      "execution_count": 91,
      "outputs": []
    },
    {
      "cell_type": "code",
      "source": [
        "print(X_test[0])\n",
        "Y_test[0]"
      ],
      "metadata": {
        "colab": {
          "base_uri": "https://localhost:8080/"
        },
        "id": "YyayP97kcXRR",
        "outputId": "5db94e05-bbba-4f49-f06a-1c2b59c41c65"
      },
      "execution_count": 92,
      "outputs": [
        {
          "output_type": "stream",
          "name": "stdout",
          "text": [
            "[[[1. 1. 1.]\n",
            "  [1. 1. 1.]\n",
            "  [1. 1. 1.]\n",
            "  ...\n",
            "  [1. 1. 1.]\n",
            "  [1. 1. 1.]\n",
            "  [1. 1. 1.]]\n",
            "\n",
            " [[1. 1. 1.]\n",
            "  [1. 1. 1.]\n",
            "  [1. 1. 1.]\n",
            "  ...\n",
            "  [1. 1. 1.]\n",
            "  [1. 1. 1.]\n",
            "  [1. 1. 1.]]\n",
            "\n",
            " [[1. 1. 1.]\n",
            "  [1. 1. 1.]\n",
            "  [0. 0. 0.]\n",
            "  ...\n",
            "  [1. 1. 1.]\n",
            "  [1. 1. 1.]\n",
            "  [1. 1. 1.]]\n",
            "\n",
            " ...\n",
            "\n",
            " [[1. 1. 1.]\n",
            "  [1. 1. 1.]\n",
            "  [1. 1. 1.]\n",
            "  ...\n",
            "  [1. 1. 1.]\n",
            "  [1. 1. 1.]\n",
            "  [1. 1. 1.]]\n",
            "\n",
            " [[1. 1. 1.]\n",
            "  [1. 1. 1.]\n",
            "  [1. 1. 1.]\n",
            "  ...\n",
            "  [0. 0. 0.]\n",
            "  [0. 0. 0.]\n",
            "  [1. 1. 1.]]\n",
            "\n",
            " [[1. 1. 1.]\n",
            "  [1. 1. 1.]\n",
            "  [1. 1. 1.]\n",
            "  ...\n",
            "  [0. 0. 0.]\n",
            "  [0. 0. 0.]\n",
            "  [0. 0. 0.]]]\n"
          ]
        },
        {
          "output_type": "execute_result",
          "data": {
            "text/plain": [
              "array([0., 1., 0., 0., 0., 0., 0., 0., 0., 0.])"
            ]
          },
          "metadata": {},
          "execution_count": 92
        }
      ]
    },
    {
      "cell_type": "code",
      "source": [
        "# do prediction on the test dataset\n",
        "prediction_test = model.predict(X_test)"
      ],
      "metadata": {
        "colab": {
          "base_uri": "https://localhost:8080/"
        },
        "id": "QF2SBEwLdN6Q",
        "outputId": "e4c44537-17b8-4224-d215-fde7840882a9"
      },
      "execution_count": 93,
      "outputs": [
        {
          "output_type": "stream",
          "name": "stdout",
          "text": [
            "6/6 [==============================] - 0s 3ms/step\n"
          ]
        }
      ]
    },
    {
      "cell_type": "code",
      "source": [
        "# Evaluate the model on the test data\n",
        "loss, accuracy = model.evaluate(X_test, Y_test)\n",
        "\n",
        "# Print the test accuracy\n",
        "print('Test dataset accuracy:', accuracy)"
      ],
      "metadata": {
        "colab": {
          "base_uri": "https://localhost:8080/"
        },
        "id": "cFHQC2_6d3IS",
        "outputId": "3ad47b84-af62-4eff-8bbe-a11e88ba0faf"
      },
      "execution_count": 96,
      "outputs": [
        {
          "output_type": "stream",
          "name": "stdout",
          "text": [
            "6/6 [==============================] - 0s 8ms/step - loss: 0.2503 - accuracy: 0.9494\n",
            "Test dataset accuracy: 0.949438214302063\n"
          ]
        }
      ]
    },
    {
      "cell_type": "code",
      "source": [
        "# Predicted class value probability for one image \n",
        "prediction_test[10]"
      ],
      "metadata": {
        "colab": {
          "base_uri": "https://localhost:8080/"
        },
        "id": "s8DSTXXQdN9k",
        "outputId": "3c3c6382-4499-4e03-be24-c87799946069"
      },
      "execution_count": 94,
      "outputs": [
        {
          "output_type": "execute_result",
          "data": {
            "text/plain": [
              "array([5.7220112e-10, 1.8332888e-07, 2.7193934e-13, 3.3733235e-11,\n",
              "       9.4685226e-10, 3.5594856e-09, 1.2580697e-06, 4.3097730e-12,\n",
              "       1.4029610e-05, 9.9998444e-01], dtype=float32)"
            ]
          },
          "metadata": {},
          "execution_count": 94
        }
      ]
    },
    {
      "cell_type": "code",
      "source": [
        "# truth value for one image\n",
        "Y_test[10]"
      ],
      "metadata": {
        "colab": {
          "base_uri": "https://localhost:8080/"
        },
        "id": "tyUHHznYdVBM",
        "outputId": "c6e28de6-8999-4650-94f9-f0b525f9efc6"
      },
      "execution_count": 95,
      "outputs": [
        {
          "output_type": "execute_result",
          "data": {
            "text/plain": [
              "array([0., 0., 0., 0., 0., 0., 0., 0., 0., 1.])"
            ]
          },
          "metadata": {},
          "execution_count": 95
        }
      ]
    },
    {
      "cell_type": "markdown",
      "source": [
        "### We can observe that Prediction is same as truth for image on test dataset"
      ],
      "metadata": {
        "id": "AB0RAEFrETwC"
      }
    },
    {
      "cell_type": "markdown",
      "metadata": {
        "id": "F6rpq_XfHs_-"
      },
      "source": [
        "# Using Image DataGenerator Library"
      ]
    },
    {
      "cell_type": "code",
      "execution_count": 49,
      "metadata": {
        "colab": {
          "base_uri": "https://localhost:8080/"
        },
        "id": "KLwKIlgfHsDU",
        "outputId": "601fb93e-03dc-467b-8085-83ffb4ef0f13"
      },
      "outputs": [
        {
          "output_type": "stream",
          "name": "stdout",
          "text": [
            "Found 1000 images belonging to 10 classes.\n",
            "Found 178 images belonging to 10 classes.\n",
            "Model: \"sequential_5\"\n",
            "_________________________________________________________________\n",
            " Layer (type)                Output Shape              Param #   \n",
            "=================================================================\n",
            " flatten_5 (Flatten)         (None, 3072)              0         \n",
            "                                                                 \n",
            " dense_10 (Dense)            (None, 128)               393344    \n",
            "                                                                 \n",
            " dropout_5 (Dropout)         (None, 128)               0         \n",
            "                                                                 \n",
            " dense_11 (Dense)            (None, 10)                1290      \n",
            "                                                                 \n",
            "=================================================================\n",
            "Total params: 394,634\n",
            "Trainable params: 394,634\n",
            "Non-trainable params: 0\n",
            "_________________________________________________________________\n",
            "None\n",
            "Epoch 1/10\n",
            "32/32 [==============================] - 4s 112ms/step - loss: 2.4144 - accuracy: 0.1840 - val_loss: 1.9255 - val_accuracy: 0.4494\n",
            "Epoch 2/10\n",
            "32/32 [==============================] - 4s 111ms/step - loss: 1.8328 - accuracy: 0.3290 - val_loss: 1.5559 - val_accuracy: 0.5787\n",
            "Epoch 3/10\n",
            "32/32 [==============================] - 3s 102ms/step - loss: 1.6741 - accuracy: 0.3580 - val_loss: 1.3634 - val_accuracy: 0.7135\n",
            "Epoch 4/10\n",
            "32/32 [==============================] - 3s 102ms/step - loss: 1.5402 - accuracy: 0.4250 - val_loss: 1.2462 - val_accuracy: 0.7978\n",
            "Epoch 5/10\n",
            "32/32 [==============================] - 4s 110ms/step - loss: 1.5607 - accuracy: 0.3970 - val_loss: 1.1913 - val_accuracy: 0.7472\n",
            "Epoch 6/10\n",
            "32/32 [==============================] - 3s 93ms/step - loss: 1.4451 - accuracy: 0.4380 - val_loss: 1.0863 - val_accuracy: 0.7528\n",
            "Epoch 7/10\n",
            "32/32 [==============================] - 4s 113ms/step - loss: 1.4440 - accuracy: 0.4500 - val_loss: 1.0144 - val_accuracy: 0.7584\n",
            "Epoch 8/10\n",
            "32/32 [==============================] - 3s 95ms/step - loss: 1.3708 - accuracy: 0.4800 - val_loss: 0.8802 - val_accuracy: 0.7978\n",
            "Epoch 9/10\n",
            "32/32 [==============================] - 3s 98ms/step - loss: 1.3934 - accuracy: 0.4580 - val_loss: 0.9695 - val_accuracy: 0.7865\n",
            "Epoch 10/10\n",
            "32/32 [==============================] - 4s 114ms/step - loss: 1.3716 - accuracy: 0.4640 - val_loss: 0.8829 - val_accuracy: 0.8258\n",
            "6/6 [==============================] - 1s 120ms/step - loss: 0.8829 - accuracy: 0.8258\n",
            "Test accuracy: 0.8258426785469055\n"
          ]
        }
      ],
      "source": [
        "# import the necessary library\n",
        "import os\n",
        "import numpy as np\n",
        "from keras.models import Sequential\n",
        "from keras.layers import Dense, Flatten, Dropout\n",
        "from keras.optimizers import Adam\n",
        "from keras.preprocessing.image import ImageDataGenerator\n",
        "\n",
        "# Set the train and test directories\n",
        "train_dir = '/content/drive/MyDrive/Machine Learning Assignment03/Problem 02/train'\n",
        "test_dir = '/content/drive/MyDrive/Machine Learning Assignment03/Problem 02/val'\n",
        "\n",
        "# Set the image dimensions and batch size\n",
        "img_height, img_width = 32, 32\n",
        "batch_size = 32\n",
        "\n",
        "# Create the data generators using ImageDatagenerator library\n",
        "train_datagen = ImageDataGenerator(rescale=1./255, shear_range=0.2, zoom_range=0.2, horizontal_flip=True)\n",
        "test_datagen = ImageDataGenerator(rescale=1./255)\n",
        "\n",
        "train_generator = train_datagen.flow_from_directory(train_dir, target_size=(img_height, img_width), batch_size=batch_size, class_mode='categorical')\n",
        "test_generator = test_datagen.flow_from_directory(test_dir, target_size=(img_height, img_width), batch_size=batch_size, class_mode='categorical')\n",
        "\n",
        "# Define the model\n",
        "model = Sequential()\n",
        "model.add(Flatten(input_shape=(img_height, img_width, 3)))\n",
        "model.add(Dense(128, activation='relu'))\n",
        "model.add(Dropout(0.5))\n",
        "model.add(Dense(len(train_generator.class_indices), activation='softmax'))\n",
        "\n",
        "# Compile the model\n",
        "optimizer = Adam(learning_rate=0.001)\n",
        "model.compile(optimizer=optimizer, loss='categorical_crossentropy', metrics=['accuracy'])\n",
        "\n",
        "# Model Summary\n",
        "print(model.summary())\n",
        "\n",
        "# Train the model\n",
        "epochs = 10\n",
        "model.fit(train_generator, epochs=epochs, validation_data=test_generator)\n",
        "\n",
        "# Evaluate the model on the test data\n",
        "loss, accuracy = model.evaluate(test_generator)\n",
        "\n",
        "# Print the test accuracy\n",
        "print('accuracy on Test data:', accuracy)"
      ]
    },
    {
      "cell_type": "markdown",
      "metadata": {
        "id": "h7X9qGJLHSgt"
      },
      "source": [
        "# Model Creation and Prediction without using Keras Library"
      ]
    },
    {
      "cell_type": "code",
      "execution_count": 98,
      "metadata": {
        "id": "QcVFUJPFZ8_1"
      },
      "outputs": [],
      "source": [
        "#Flatten the images\n",
        "\n",
        "X_train = X_train.reshape(X_train.shape[0], -1)\n",
        "X_val = X_val.reshape(X_val.shape[0], -1)\n",
        "X_test = X_test.reshape(X_test.shape[0], -1)"
      ]
    },
    {
      "cell_type": "code",
      "execution_count": 99,
      "metadata": {
        "id": "FjWm9JqocaB5"
      },
      "outputs": [],
      "source": [
        "# Define the sigmoid and softmax activation functions\n",
        "def sigmoid(x):\n",
        "    return 1 / (1 + np.exp(-x))\n",
        "\n",
        "def softmax(x):\n",
        "    exp_x = np.exp(x)\n",
        "    return exp_x / np.sum(exp_x, axis=1, keepdims=True)\n",
        "\n",
        "# Define the cross-entropy loss function\n",
        "def cross_entropy_loss(y_true, y_pred):\n",
        "    m = y_true.shape[0]\n",
        "    cost = -1/m * np.sum(y_true * np.log(y_pred + 1e-8))\n",
        "    return cost\n",
        "\n",
        "# Define the ANN model\n",
        "def init_params(input_size, hidden_size, output_size):\n",
        "    W1 = np.random.randn(input_size, hidden_size) * 0.01\n",
        "    b1 = np.zeros((1, hidden_size))\n",
        "    W2 = np.random.randn(hidden_size, output_size) * 0.01\n",
        "    b2 = np.zeros((1, output_size))\n",
        "    return {\"W1\": W1, \"b1\": b1, \"W2\": W2, \"b2\": b2}\n",
        "\n",
        "def forward_propagation(X, params):\n",
        "    Z1 = np.dot(X, params[\"W1\"]) + params[\"b1\"]\n",
        "    A1 = sigmoid(Z1)\n",
        "    Z2 = np.dot(A1, params[\"W2\"]) + params[\"b2\"]\n",
        "    A2 = softmax(Z2)\n",
        "    return {\"Z1\": Z1, \"A1\": A1, \"Z2\": Z2, \"A2\": A2}\n",
        "\n",
        "def back_propagation(X, Y, frwd_result, params, learning_rate):\n",
        "    m = X.shape[0]\n",
        "    dZ2 = frwd_result[\"A2\"] - Y\n",
        "    dW2 = 1/m * np.dot(frwd_result[\"A1\"].T, dZ2)\n",
        "    db2 = 1/m * np.sum(dZ2, axis=0, keepdims=True)\n",
        "    dZ1 = np.dot(dZ2, params[\"W2\"].T) * frwd_result[\"A1\"] * (1 - frwd_result[\"A1\"])\n",
        "    dW1 = 1/m * np.dot(X.T, dZ1)\n",
        "    db1 = 1/m * np.sum(dZ1, axis=0, keepdims=True)\n",
        "\n",
        "    params[\"W1\"] -= learning_rate * dW1\n",
        "    params[\"b1\"] -= learning_rate * db1\n",
        "    params[\"W2\"] -= learning_rate * dW2\n",
        "    params[\"b2\"] -= learning_rate * db2\n",
        "\n",
        "def train(X, Y, input_size, hidden_size, output_size, num_epochs, learning_rate, batch_size):\n",
        "    params = init_params(input_size, hidden_size, output_size)\n",
        "    for i in range(num_epochs):\n",
        "        for j in range(0, X.shape[0], batch_size):\n",
        "            X_batch = X[j:j+batch_size]\n",
        "            Y_batch = Y[j:j+batch_size]\n",
        "            frwd_result = forward_propagation(X_batch, params)\n",
        "            cost = cross_entropy_loss(Y_batch, frwd_result[\"A2\"])\n",
        "            back_propagation(X_batch, Y_batch, frwd_result, params, learning_rate)\n",
        "            if j % 100 == 0:\n",
        "                print(\"Cost after iteration number %i: %f\" %(j, cost))\n",
        "    return params\n"
      ]
    },
    {
      "cell_type": "code",
      "execution_count": 100,
      "metadata": {
        "colab": {
          "base_uri": "https://localhost:8080/"
        },
        "id": "TSs9RS5pb0UQ",
        "outputId": "55562e00-e0ab-4594-ed5c-854483014ee0"
      },
      "outputs": [
        {
          "output_type": "stream",
          "name": "stdout",
          "text": [
            "Cost after iteration number 0: 2.299990\n",
            "Cost after iteration number 0: 2.294752\n",
            "Cost after iteration number 0: 2.281945\n",
            "Cost after iteration number 0: 2.266667\n",
            "Cost after iteration number 0: 2.249475\n",
            "Cost after iteration number 0: 2.229936\n",
            "Cost after iteration number 0: 2.207411\n",
            "Cost after iteration number 0: 2.181195\n",
            "Cost after iteration number 0: 2.150563\n",
            "Cost after iteration number 0: 2.114812\n",
            "Cost after iteration number 0: 2.073326\n",
            "Cost after iteration number 0: 2.025647\n",
            "Cost after iteration number 0: 1.971575\n",
            "Cost after iteration number 0: 1.911241\n",
            "Cost after iteration number 0: 1.845157\n",
            "Cost after iteration number 0: 1.774192\n",
            "Cost after iteration number 0: 1.699488\n",
            "Cost after iteration number 0: 1.622330\n",
            "Cost after iteration number 0: 1.544003\n",
            "Cost after iteration number 0: 1.465695\n",
            "Cost after iteration number 0: 1.388426\n",
            "Cost after iteration number 0: 1.313029\n",
            "Cost after iteration number 0: 1.240154\n",
            "Cost after iteration number 0: 1.170281\n",
            "Cost after iteration number 0: 1.103753\n",
            "Cost after iteration number 0: 1.040790\n",
            "Cost after iteration number 0: 0.981512\n",
            "Cost after iteration number 0: 0.925957\n",
            "Cost after iteration number 0: 0.874092\n",
            "Cost after iteration number 0: 0.825828\n",
            "Cost after iteration number 0: 0.781027\n",
            "Cost after iteration number 0: 0.739520\n",
            "Cost after iteration number 0: 0.701110\n",
            "Cost after iteration number 0: 0.665589\n",
            "Cost after iteration number 0: 0.632742\n",
            "Cost after iteration number 0: 0.602357\n",
            "Cost after iteration number 0: 0.574228\n",
            "Cost after iteration number 0: 0.548159\n",
            "Cost after iteration number 0: 0.523968\n",
            "Cost after iteration number 0: 0.501485\n",
            "Cost after iteration number 0: 0.480556\n",
            "Cost after iteration number 0: 0.461042\n",
            "Cost after iteration number 0: 0.442815\n",
            "Cost after iteration number 0: 0.425761\n",
            "Cost after iteration number 0: 0.409778\n",
            "Cost after iteration number 0: 0.394774\n",
            "Cost after iteration number 0: 0.380667\n",
            "Cost after iteration number 0: 0.367382\n",
            "Cost after iteration number 0: 0.354853\n",
            "Cost after iteration number 0: 0.343022\n",
            "Cost after iteration number 0: 0.331834\n",
            "Cost after iteration number 0: 0.321242\n",
            "Cost after iteration number 0: 0.311202\n",
            "Cost after iteration number 0: 0.301675\n",
            "Cost after iteration number 0: 0.292625\n",
            "Cost after iteration number 0: 0.284020\n",
            "Cost after iteration number 0: 0.275830\n",
            "Cost after iteration number 0: 0.268028\n",
            "Cost after iteration number 0: 0.260590\n",
            "Cost after iteration number 0: 0.253492\n",
            "Cost after iteration number 0: 0.246715\n",
            "Cost after iteration number 0: 0.240238\n",
            "Cost after iteration number 0: 0.234044\n",
            "Cost after iteration number 0: 0.228116\n",
            "Cost after iteration number 0: 0.222440\n",
            "Cost after iteration number 0: 0.217000\n",
            "Cost after iteration number 0: 0.211784\n",
            "Cost after iteration number 0: 0.206779\n",
            "Cost after iteration number 0: 0.201974\n",
            "Cost after iteration number 0: 0.197358\n",
            "Cost after iteration number 0: 0.192921\n",
            "Cost after iteration number 0: 0.188654\n",
            "Cost after iteration number 0: 0.184549\n",
            "Cost after iteration number 0: 0.180596\n",
            "Cost after iteration number 0: 0.176788\n",
            "Cost after iteration number 0: 0.173118\n",
            "Cost after iteration number 0: 0.169579\n",
            "Cost after iteration number 0: 0.166166\n",
            "Cost after iteration number 0: 0.162870\n",
            "Cost after iteration number 0: 0.159689\n",
            "Cost after iteration number 0: 0.156615\n",
            "Cost after iteration number 0: 0.153644\n",
            "Cost after iteration number 0: 0.150771\n",
            "Cost after iteration number 0: 0.147992\n",
            "Cost after iteration number 0: 0.145302\n",
            "Cost after iteration number 0: 0.142698\n",
            "Cost after iteration number 0: 0.140176\n",
            "Cost after iteration number 0: 0.137732\n",
            "Cost after iteration number 0: 0.135363\n",
            "Cost after iteration number 0: 0.133066\n",
            "Cost after iteration number 0: 0.130838\n",
            "Cost after iteration number 0: 0.128675\n",
            "Cost after iteration number 0: 0.126576\n",
            "Cost after iteration number 0: 0.124538\n",
            "Cost after iteration number 0: 0.122558\n",
            "Cost after iteration number 0: 0.120633\n",
            "Cost after iteration number 0: 0.118763\n",
            "Cost after iteration number 0: 0.116944\n",
            "Cost after iteration number 0: 0.115175\n",
            "Cost after iteration number 0: 0.113454\n"
          ]
        }
      ],
      "source": [
        "# Train the ANN model\n",
        "\n",
        "input_size = img_height * img_width * 3  # input to be fed to input layer of the model\n",
        "hidden_size = 256\n",
        "output_size = num_classes # no the classes for classification\n",
        "num_epochs = 100 # no of epoch for training\n",
        "learning_rate = 0.01 # hyper parameter\n",
        "# Define the batch size\n",
        "batch_size = 32\n",
        "\n",
        "params = train(X_train, Y_train, input_size, hidden_size, output_size, num_epochs, learning_rate, batch_size)"
      ]
    },
    {
      "cell_type": "code",
      "execution_count": 101,
      "metadata": {
        "colab": {
          "base_uri": "https://localhost:8080/"
        },
        "id": "2SrmT3GZb3D7",
        "outputId": "0767a617-c214-40fb-fe61-b911aa013e08"
      },
      "outputs": [
        {
          "output_type": "stream",
          "name": "stdout",
          "text": [
            "Test accuracy on validation data set: 97.00%\n"
          ]
        }
      ],
      "source": [
        "# Evaluate the model on the validation dataset\n",
        "frwd_result = forward_propagation(X_val, params)\n",
        "predictions = np.argmax(frwd_result[\"A2\"], axis=1)\n",
        "accuracy = np.mean(predictions == np.argmax(Y_val, axis=1))\n",
        "print(\"Test accuracy on validation data set: %.2f%%\" %(accuracy * 100))"
      ]
    },
    {
      "cell_type": "code",
      "source": [
        "# Evaluate the model on the test dataset\n",
        "frwd_result = forward_propagation(X_test, params)\n",
        "predictions = np.argmax(frwd_result[\"A2\"], axis=1)\n",
        "accuracy = np.mean(predictions == np.argmax(Y_test, axis=1))\n",
        "print(\"Test accuracy on test data set: %.2f%%\" %(accuracy * 100))"
      ],
      "metadata": {
        "colab": {
          "base_uri": "https://localhost:8080/"
        },
        "id": "Ozb6zVRQbLf4",
        "outputId": "4539066b-abfd-416d-84e8-5c40855dc7a9"
      },
      "execution_count": 102,
      "outputs": [
        {
          "output_type": "stream",
          "name": "stdout",
          "text": [
            "Test accuracy on test data set: 93.82%\n"
          ]
        }
      ]
    }
  ],
  "metadata": {
    "colab": {
      "provenance": []
    },
    "kernelspec": {
      "display_name": "Python 3",
      "name": "python3"
    },
    "language_info": {
      "name": "python"
    }
  },
  "nbformat": 4,
  "nbformat_minor": 0
}